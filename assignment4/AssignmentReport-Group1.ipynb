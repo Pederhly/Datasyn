{
 "cells": [
  {
   "cell_type": "markdown",
   "metadata": {},
   "source": [
    "# Assignment 1 Report"
   ]
  },
  {
   "cell_type": "markdown",
   "metadata": {},
   "source": [
    "This is an outline for your report to ease the amount of work required to create your report. Jupyter notebook supports markdown, and I recommend you to check out this [cheat sheet](https://github.com/adam-p/markdown-here/wiki/Markdown-Cheatsheet). If you are not familiar with markdown.\n",
    "\n",
    "Before delivery, **remember to convert this file to PDF**. You can do it in two ways:\n",
    "1. Print the webpage (ctrl+P or cmd+P)\n",
    "2. Export with latex. This is somewhat more difficult, but you'll get somehwat of a \"prettier\" PDF. Go to File -> Download as -> PDF via LaTeX. You might have to install nbconvert and pandoc through conda; `conda install nbconvert pandoc`."
   ]
  },
  {
   "cell_type": "markdown",
   "metadata": {},
   "source": [
    "# Task 1"
   ]
  },
  {
   "cell_type": "markdown",
   "metadata": {},
   "source": [
    "## task 1a)\n",
    "\n",
    "![](SSD\\figures\\11a.png)"
   ]
  },
  {
   "cell_type": "markdown",
   "metadata": {},
   "source": [
    "## task 1b)\n",
    "\n",
    "![](SSD\\figures\\11b.png)\n",
    "\n",
    "## task 1c)\n",
    "\n",
    "![](SSD\\figures\\11c.png)\n"
   ]
  },
  {
   "cell_type": "markdown",
   "metadata": {},
   "source": [
    "# Task 2\n",
    "\n",
    "### Task 2f)\n",
    "![](precision_recall_curve1.png)"
   ]
  },
  {
   "cell_type": "markdown",
   "metadata": {},
   "source": [
    "# Task 3"
   ]
  },
  {
   "cell_type": "markdown",
   "metadata": {},
   "source": [
    "### Task 3a 3b 3c 3d)\n",
    "![](SSD\\figures\\33ad.png)\n",
    "\n",
    "### Task 3e 3f)\n",
    "![](SSD\\figures\\33ef.png)\n"
   ]
  },
  {
   "cell_type": "markdown",
   "metadata": {},
   "source": [
    "# Task 4"
   ]
  },
  {
   "cell_type": "markdown",
   "metadata": {},
   "source": [
    "## Task 4b)\n",
    "For IOU threshold of 0.5 I got a mAP = 0.783\n",
    "![](SSD\\figures\\mAPtask4b.png)\n",
    "![](SSD\\figures\\TotalLossTask4b.png)\n",
    "\n",
    "## Task 4c)\n",
    "I added batch normilazation, regularization with dropout, lowered the learing rate and the biggest effect was seen from lowering the ancher box sizes on the first 2 layers. This propobly made the model better at detecting smaller objects. This boosted mAP by about 5%. I ended up with mAP = 0.857.\n",
    "![](SSD\\figures\\mAPtask4c.png)\n",
    "![](SSD\\figures\\TotallossTask4c.png)\n",
    "\n",
    "## Task 4d)\n",
    "Very hard to grasp\n",
    "\n",
    "\n",
    "## Task 4e)\n",
    "The image under is a merge of all 14 mnist outputs images. The model seem to struggle with ones and some of the smaller sized numbers.\n",
    "![](SSD\\figures\\numberdetect.png)\n",
    "\n",
    "\n",
    "## Task 4f)\n",
    "\n",
    "![](SSD\\figures\\map4f.png)\n",
    "![](SSD\\figures\\tl4f.png)\n",
    "![](SSD\\figures\\objectdetec.png)"
   ]
  }
 ],
 "metadata": {
  "interpreter": {
   "hash": "00679ddcae051db8c822841824a0183c05cb23935654c0cd1e552e166156e29d"
  },
  "kernelspec": {
   "display_name": "Python 3.8.1 64-bit ('py38': conda)",
   "language": "python",
   "name": "python3"
  },
  "language_info": {
   "codemirror_mode": {
    "name": "ipython",
    "version": 3
   },
   "file_extension": ".py",
   "mimetype": "text/x-python",
   "name": "python",
   "nbconvert_exporter": "python",
   "pygments_lexer": "ipython3",
   "version": "3.6.10"
  }
 },
 "nbformat": 4,
 "nbformat_minor": 4
}
